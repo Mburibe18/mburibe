{
  "nbformat": 4,
  "nbformat_minor": 0,
  "metadata": {
    "colab": {
      "name": "Untitled0.ipynb",
      "provenance": [],
      "collapsed_sections": []
    },
    "kernelspec": {
      "name": "python3",
      "display_name": "Python 3"
    }
  },
  "cells": [
    {
      "cell_type": "code",
      "metadata": {
        "id": "gZPTS7mbtn9a",
        "colab_type": "code",
        "colab": {
          "base_uri": "https://localhost:8080/",
          "height": 374
        },
        "outputId": "d4ba4d21-4cc8-4b9f-c166-55fe51e3718f"
      },
      "source": [
        "import pandas as pd\n",
        "\n",
        "\n",
        "business_results =pd.Series({\"carne\":4200,\n",
        "                  \"huevos\":4800,\n",
        "                  \"jamon\":5400,\n",
        "                  \"lechuga\":2200,\n",
        "                  \"avena\":1500,\n",
        "                  \"pescado\":4000,\n",
        "                  \"tomate\":1000,\n",
        "                  \"cebolla\":800,\n",
        "                  \"cereal\":2200\n",
        "                  })\n",
        "print(business_results)\n",
        "\n",
        "\n",
        "\n",
        "business_results_frame= pd.DataFrame({\"enero\":[2000,1000,1200,3000,2000],\n",
        "                  \"febrero\":[2300,1200,1300,4000,1450],\n",
        "                  \"marzo\":[2400,1600,1400,3200,1890],\n",
        "                  \"abril\":[1000,600,600,900,1000]},index=['carne','huevos','jamon','lechuga','avena'])\n",
        "business_results_frame\n",
        "\n",
        "\n",
        "\n",
        "\n",
        "business_results_frame= pd.DataFrame({\"enero\":[2000,1000,1200,3000,2000],\n",
        "                  \"marzo\":[2400,1600,1400,3200,1890],\n",
        "                  },index=['carne','huevos','jamon','lechuga','avena'])\n",
        "business_results_frame"
      ],
      "execution_count": 5,
      "outputs": [
        {
          "output_type": "stream",
          "text": [
            "carne      4200\n",
            "huevos     4800\n",
            "jamon      5400\n",
            "lechuga    2200\n",
            "avena      1500\n",
            "pescado    4000\n",
            "tomate     1000\n",
            "cebolla     800\n",
            "cereal     2200\n",
            "dtype: int64\n"
          ],
          "name": "stdout"
        },
        {
          "output_type": "execute_result",
          "data": {
            "text/html": [
              "<div>\n",
              "<style scoped>\n",
              "    .dataframe tbody tr th:only-of-type {\n",
              "        vertical-align: middle;\n",
              "    }\n",
              "\n",
              "    .dataframe tbody tr th {\n",
              "        vertical-align: top;\n",
              "    }\n",
              "\n",
              "    .dataframe thead th {\n",
              "        text-align: right;\n",
              "    }\n",
              "</style>\n",
              "<table border=\"1\" class=\"dataframe\">\n",
              "  <thead>\n",
              "    <tr style=\"text-align: right;\">\n",
              "      <th></th>\n",
              "      <th>enero</th>\n",
              "      <th>marzo</th>\n",
              "    </tr>\n",
              "  </thead>\n",
              "  <tbody>\n",
              "    <tr>\n",
              "      <th>carne</th>\n",
              "      <td>2000</td>\n",
              "      <td>2400</td>\n",
              "    </tr>\n",
              "    <tr>\n",
              "      <th>huevos</th>\n",
              "      <td>1000</td>\n",
              "      <td>1600</td>\n",
              "    </tr>\n",
              "    <tr>\n",
              "      <th>jamon</th>\n",
              "      <td>1200</td>\n",
              "      <td>1400</td>\n",
              "    </tr>\n",
              "    <tr>\n",
              "      <th>lechuga</th>\n",
              "      <td>3000</td>\n",
              "      <td>3200</td>\n",
              "    </tr>\n",
              "    <tr>\n",
              "      <th>avena</th>\n",
              "      <td>2000</td>\n",
              "      <td>1890</td>\n",
              "    </tr>\n",
              "  </tbody>\n",
              "</table>\n",
              "</div>"
            ],
            "text/plain": [
              "         enero  marzo\n",
              "carne     2000   2400\n",
              "huevos    1000   1600\n",
              "jamon     1200   1400\n",
              "lechuga   3000   3200\n",
              "avena     2000   1890"
            ]
          },
          "metadata": {
            "tags": []
          },
          "execution_count": 5
        }
      ]
    },
    {
      "cell_type": "code",
      "metadata": {
        "id": "-sXecw-Izehx",
        "colab_type": "code",
        "colab": {
          "base_uri": "https://localhost:8080/",
          "height": 204
        },
        "outputId": "e7df4369-01e1-4bf9-e30c-1492e2625ab3"
      },
      "source": [
        "business_results_frame= pd.DataFrame({\"enero\":[2000,1000,1200,3000,2000],\n",
        "                  \"febrero\":[2300,1200,1300,4000,1450],\n",
        "                  \"marzo\":[2400,1600,1400,3200,1890],\n",
        "                  \"abril\":[1000,600,600,900,1000]},index=['carne','huevos','jamon','lechuga','avena'])\n",
        "business_results_frame"
      ],
      "execution_count": 6,
      "outputs": [
        {
          "output_type": "execute_result",
          "data": {
            "text/html": [
              "<div>\n",
              "<style scoped>\n",
              "    .dataframe tbody tr th:only-of-type {\n",
              "        vertical-align: middle;\n",
              "    }\n",
              "\n",
              "    .dataframe tbody tr th {\n",
              "        vertical-align: top;\n",
              "    }\n",
              "\n",
              "    .dataframe thead th {\n",
              "        text-align: right;\n",
              "    }\n",
              "</style>\n",
              "<table border=\"1\" class=\"dataframe\">\n",
              "  <thead>\n",
              "    <tr style=\"text-align: right;\">\n",
              "      <th></th>\n",
              "      <th>enero</th>\n",
              "      <th>febrero</th>\n",
              "      <th>marzo</th>\n",
              "      <th>abril</th>\n",
              "    </tr>\n",
              "  </thead>\n",
              "  <tbody>\n",
              "    <tr>\n",
              "      <th>carne</th>\n",
              "      <td>2000</td>\n",
              "      <td>2300</td>\n",
              "      <td>2400</td>\n",
              "      <td>1000</td>\n",
              "    </tr>\n",
              "    <tr>\n",
              "      <th>huevos</th>\n",
              "      <td>1000</td>\n",
              "      <td>1200</td>\n",
              "      <td>1600</td>\n",
              "      <td>600</td>\n",
              "    </tr>\n",
              "    <tr>\n",
              "      <th>jamon</th>\n",
              "      <td>1200</td>\n",
              "      <td>1300</td>\n",
              "      <td>1400</td>\n",
              "      <td>600</td>\n",
              "    </tr>\n",
              "    <tr>\n",
              "      <th>lechuga</th>\n",
              "      <td>3000</td>\n",
              "      <td>4000</td>\n",
              "      <td>3200</td>\n",
              "      <td>900</td>\n",
              "    </tr>\n",
              "    <tr>\n",
              "      <th>avena</th>\n",
              "      <td>2000</td>\n",
              "      <td>1450</td>\n",
              "      <td>1890</td>\n",
              "      <td>1000</td>\n",
              "    </tr>\n",
              "  </tbody>\n",
              "</table>\n",
              "</div>"
            ],
            "text/plain": [
              "         enero  febrero  marzo  abril\n",
              "carne     2000     2300   2400   1000\n",
              "huevos    1000     1200   1600    600\n",
              "jamon     1200     1300   1400    600\n",
              "lechuga   3000     4000   3200    900\n",
              "avena     2000     1450   1890   1000"
            ]
          },
          "metadata": {
            "tags": []
          },
          "execution_count": 6
        }
      ]
    },
    {
      "cell_type": "code",
      "metadata": {
        "id": "0pknxniQzmZO",
        "colab_type": "code",
        "colab": {
          "base_uri": "https://localhost:8080/",
          "height": 204
        },
        "outputId": "f2eaec53-4ea5-4bad-da45-3abd448a7bc4"
      },
      "source": [
        "business_results_frame= pd.DataFrame({\n",
        "                  \"abril\":[1000,600,600,900,1000]},index=['carne','huevos','jamon','lechuga','avena'])\n",
        "business_results_frame"
      ],
      "execution_count": 7,
      "outputs": [
        {
          "output_type": "execute_result",
          "data": {
            "text/html": [
              "<div>\n",
              "<style scoped>\n",
              "    .dataframe tbody tr th:only-of-type {\n",
              "        vertical-align: middle;\n",
              "    }\n",
              "\n",
              "    .dataframe tbody tr th {\n",
              "        vertical-align: top;\n",
              "    }\n",
              "\n",
              "    .dataframe thead th {\n",
              "        text-align: right;\n",
              "    }\n",
              "</style>\n",
              "<table border=\"1\" class=\"dataframe\">\n",
              "  <thead>\n",
              "    <tr style=\"text-align: right;\">\n",
              "      <th></th>\n",
              "      <th>abril</th>\n",
              "    </tr>\n",
              "  </thead>\n",
              "  <tbody>\n",
              "    <tr>\n",
              "      <th>carne</th>\n",
              "      <td>1000</td>\n",
              "    </tr>\n",
              "    <tr>\n",
              "      <th>huevos</th>\n",
              "      <td>600</td>\n",
              "    </tr>\n",
              "    <tr>\n",
              "      <th>jamon</th>\n",
              "      <td>600</td>\n",
              "    </tr>\n",
              "    <tr>\n",
              "      <th>lechuga</th>\n",
              "      <td>900</td>\n",
              "    </tr>\n",
              "    <tr>\n",
              "      <th>avena</th>\n",
              "      <td>1000</td>\n",
              "    </tr>\n",
              "  </tbody>\n",
              "</table>\n",
              "</div>"
            ],
            "text/plain": [
              "         abril\n",
              "carne     1000\n",
              "huevos     600\n",
              "jamon      600\n",
              "lechuga    900\n",
              "avena     1000"
            ]
          },
          "metadata": {
            "tags": []
          },
          "execution_count": 7
        }
      ]
    }
  ]
}