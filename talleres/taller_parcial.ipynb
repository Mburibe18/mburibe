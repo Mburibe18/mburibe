{
  "nbformat": 4,
  "nbformat_minor": 0,
  "metadata": {
    "colab": {
      "name": "Untitled5.ipynb",
      "provenance": [],
      "collapsed_sections": []
    },
    "kernelspec": {
      "name": "python3",
      "display_name": "Python 3"
    }
  },
  "cells": [
    {
      "cell_type": "code",
      "metadata": {
        "id": "YhHSpUjiz95T",
        "colab_type": "code",
        "colab": {
          "base_uri": "https://localhost:8080/",
          "height": 34
        },
        "outputId": "e6a170ac-6f61-47e1-ae13-7ee27be7795f"
      },
      "source": [
        "import requests\n",
        "url = 'https://listado.mercadolibre.com.co/celulares#D[A:celulares]'\n",
        "response = requests.get (url)\n",
        "print (response)\n"
      ],
      "execution_count": null,
      "outputs": [
        {
          "output_type": "stream",
          "text": [
            "<Response [200]>\n"
          ],
          "name": "stdout"
        }
      ]
    },
    {
      "cell_type": "markdown",
      "metadata": {
        "id": "oQ6sRg4CCEw-",
        "colab_type": "text"
      },
      "source": [
        "1."
      ]
    },
    {
      "cell_type": "code",
      "metadata": {
        "id": "0efYT0AG1Irl",
        "colab_type": "code",
        "colab": {
          "base_uri": "https://localhost:8080/",
          "height": 122
        },
        "outputId": "78c2e7ce-a0e0-4f98-ff2e-359c03c179ce"
      },
      "source": [
        "import bs4\n",
        "parseo = bs4.BeautifulSoup (response.text, 'html.parser')\n",
        "getDataSelect = lambda clase : parseo.select(clase)\n",
        "dataTitle = parseo.select ('.ui-search-item__title')\n",
        "dataPrice = getDataSelect('.price-tag-fraction')\n",
        "print (dataTitle)\n",
        "print (dataPrice)\n",
        "nombreCelulares2 = []\n",
        "nombreCelulares = []\n",
        "funcionExtraerTexto = lambda elemento : elemento.text\n",
        "funcionListaDatos = lambda funcion, data :  list (map (funcion,data))\n",
        "nombreCelulares = funcionListaDatos(funcionExtraerTexto, dataTitle)\n",
        "for elemento in dataTitle :\n",
        "  nombreCelulares2.append (elemento.text)\n",
        "\n",
        "print (nombreCelulares)\n",
        "print (nombreCelulares)\n",
        "listaPrecios = funcionListaDatos(funcionExtraerTexto, dataPrice)\n",
        "print (listaPrecios)\n"
      ],
      "execution_count": null,
      "outputs": [
        {
          "output_type": "stream",
          "text": [
            "[<h2 class=\"ui-search-item__title\">Celular Xiaomi Redmi Note 9 128gb 48mp 4gb Ram Bat 5020mah </h2>, <h2 class=\"ui-search-item__title\">Celular Libre Xiaomi Redmi Note 9 128gb 48mpx 4g Lte</h2>, <h2 class=\"ui-search-item__title\">Celular Xiaomi Redmi Note 8 /64gb/48mp/4ram + Forro Y Vidrio</h2>, <h2 class=\"ui-search-item__title\">Celular Xiaomi Redmi Note 9 Pro 128gb/6 Ram / 64mp + Forro </h2>, <h2 class=\"ui-search-item__title\">Celular Xiaomi Redmi Note 9s /128gb/48mp/ 6ram + Forro</h2>, <h2 class=\"ui-search-item__title\">Celular Libre Xiaomi Redmi Note 8 64gb 48mpx 4g Lte</h2>, <h2 class=\"ui-search-item__title\">Celular Xiaomi Redmi Note 8 Global 128gb 4 Ram Garantía 12 M</h2>, <h2 class=\"ui-search-item__title\">Celular Samsung Galaxy A31 Negro Dual Sim 128 Gb </h2>, <h2 class=\"ui-search-item__title\">Celular Samsung Galaxy M31 128gb+6gb+4camáras</h2>, <h2 class=\"ui-search-item__title\">Celular Motorola One Action Color Blanco</h2>, <h2 class=\"ui-search-item__title\">Celular Motorola Moto One Macro</h2>, <h2 class=\"ui-search-item__title\"> Celular Motorola Moto G8 Plus 64gb</h2>, <h2 class=\"ui-search-item__title\">Celular Xiaomi Redmi Note 9 /128gb/48mp/4ram + Forro</h2>, <h2 class=\"ui-search-item__title\">Celular Xiaomi Redmi Note 9 Pro  /64gb/64mp/6ram + Forro</h2>, <h2 class=\"ui-search-item__title\">Celular Xiaomi Redmi Note 9s /64gb/48mp/4ram + Forro</h2>, <h2 class=\"ui-search-item__title\">Celular Libre Panasonic Gd100s Radio Fm Linterna Dual Sim 2g</h2>, <h2 class=\"ui-search-item__title\">Celular Xiaomi Redmi 9 64 Gb 4 Gb Ram 4 Camaras + Forro</h2>, <h2 class=\"ui-search-item__title\">Celular Xiaomi Redmi Note 8 Global 64 Gb 4 Ram Garantía 12 M</h2>, <h2 class=\"ui-search-item__title\">Celular Caterpillar Cat B26  Resistente Polvo / Agua Ip68</h2>, <h2 class=\"ui-search-item__title\">Celular Tecno Spark 5 Air 32gb+2gb</h2>, <h2 class=\"ui-search-item__title\">Celular Libre Xiaomi Redmi Note 8 128gb 48mp 4000 Mah 4g Lte</h2>, <h2 class=\"ui-search-item__title\">Samsung Galaxy A30s 128gb 4g</h2>, <h2 class=\"ui-search-item__title\">Celular iPhone 11 128gb Nuevo 100% Original Y Sellada </h2>, <h2 class=\"ui-search-item__title\">Celular Samsung A51 /128gb/ 4ram / 48mp + Vidrio Y Forro</h2>, <h2 class=\"ui-search-item__title\">Celular Samsung A71 /128gb/ 6ram / 64mp + Vidrio Y Forro</h2>, <h2 class=\"ui-search-item__title\">Celular Samsung Galaxy A31 Negro Dual Sim 128 Gb </h2>, <h2 class=\"ui-search-item__title\">Celular Samsung Galaxy M31 128gb+6gb+4camáras</h2>, <h2 class=\"ui-search-item__title\">Xioami Note 9 128gb 4gb Ram</h2>, <h2 class=\"ui-search-item__title\">Celular Xiaomi Redmi Note 8 Pro /64gb/64mp/ 6 Ram + Forro</h2>, <h2 class=\"ui-search-item__title\">Celular Libre Xiaomi Redmi Note 9s 64gb 48mp 4gb 4g Lte </h2>, <h2 class=\"ui-search-item__title\">Celular Xiaomi Mi Note 10 /128gb/108mp/6ram/6.47  + Forro </h2>, <h2 class=\"ui-search-item__title\">Celular iPhone 11 64gb Sellado Nuevo 4g</h2>, <h2 class=\"ui-search-item__title\">Celular iPhone SE 2020 64gb Chip A13</h2>, <h2 class=\"ui-search-item__title\">Huawei Y9 Prime 2019 4g</h2>, <h2 class=\"ui-search-item__title\">Motorola Moto G8 Power 4g </h2>, <h2 class=\"ui-search-item__title\">Celular Xiaomi Redmi Note 9 /64gb/48mp/3ram + Forro</h2>, <h2 class=\"ui-search-item__title\">Celular 4g 3gb/32gb/128gb Sd Dual Sim Neffos C9</h2>, <h2 class=\"ui-search-item__title\">Motorola Moto G8 Play 4g</h2>, <h2 class=\"ui-search-item__title\">Celular Xiaomi Redmi Note 9 /128gb/48mp/4ram+ Forro Y Vidrio</h2>, <h2 class=\"ui-search-item__title\">Celular Xiaomi Redmi Note 9 Pro 128gb/64mp + Forro Y Vidrio </h2>, <h2 class=\"ui-search-item__title\">Xiaomi Note 9 Pro 128gb Nuevo-sellado-garantia</h2>, <h2 class=\"ui-search-item__title\">Celular Nokia 106 </h2>, <h2 class=\"ui-search-item__title\">Celular Samsung Galaxy S20+ Plus 128gb Ram 8gb Cam 64mpx</h2>, <h2 class=\"ui-search-item__title\">Samsung Galaxy A51 4g</h2>, <h2 class=\"ui-search-item__title\">Celular Huawei P30 Lite 128gb / 4ram 3cam+ Forro Y Vidrio 5d</h2>, <h2 class=\"ui-search-item__title\">Celular Xiaomi Redmi Note 8 Pro /128gb/64mp/ 6 Ram + Forro</h2>, <h2 class=\"ui-search-item__title\">Celular Xiaomi Mi Note 10 Lite /128gb/64mp/6ram + Forro </h2>, <h2 class=\"ui-search-item__title\">Celular Xiaomi Redmi Note 9s Global 128gb 6 Ram Garantía 12m</h2>, <h2 class=\"ui-search-item__title\">iPhone 11 128gb Nuevo-sellado-garantia</h2>, <h2 class=\"ui-search-item__title\">Motorola Moto G8 Power Lite 4g</h2>, <h2 class=\"ui-search-item__title\">Celular Huawei Honor 10 Lite 32gb 24mp Huella 4g Lte </h2>, <h2 class=\"ui-search-item__title\">LG K61 128gb</h2>, <h2 class=\"ui-search-item__title\">Celular Xiaomi Redmi Note 9 Pro /64gb/64mp + Forro Y Vidrio</h2>, <h2 class=\"ui-search-item__title\">Celular Realme 6 Pro 128gb 8gb Ram 64mpx 4300mah 4g Lte</h2>]\n",
            "[<span class=\"price-tag-fraction\">1.199.900</span>, <span class=\"price-tag-fraction\">729.900</span>, <span class=\"price-tag-fraction\">20.275</span>, <span class=\"price-tag-fraction\">1.299.900</span>, <span class=\"price-tag-fraction\">779.900</span>, <span class=\"price-tag-fraction\">21.664</span>, <span class=\"price-tag-fraction\">1.159.000</span>, <span class=\"price-tag-fraction\">679.900</span>, <span class=\"price-tag-fraction\">18.886</span>, <span class=\"price-tag-fraction\">1.569.000</span>, <span class=\"price-tag-fraction\">1.199.000</span>, <span class=\"price-tag-fraction\">33.306</span>, <span class=\"price-tag-fraction\">1.499.000</span>, <span class=\"price-tag-fraction\">925.000</span>, <span class=\"price-tag-fraction\">25.694</span>, <span class=\"price-tag-fraction\">1.159.900</span>, <span class=\"price-tag-fraction\">639.900</span>, <span class=\"price-tag-fraction\">17.775</span>, <span class=\"price-tag-fraction\">1.199.900</span>, <span class=\"price-tag-fraction\">689.900</span>, <span class=\"price-tag-fraction\">19.164</span>, <span class=\"price-tag-fraction\">1.169.900</span>, <span class=\"price-tag-fraction\">1.099.900</span>, <span class=\"price-tag-fraction\">30.553</span>, <span class=\"price-tag-fraction\">1.899.900</span>, <span class=\"price-tag-fraction\">1.109.900</span>, <span class=\"price-tag-fraction\">30.831</span>, <span class=\"price-tag-fraction\">1.299.900</span>, <span class=\"price-tag-fraction\">679.900</span>, <span class=\"price-tag-fraction\">18.886</span>, <span class=\"price-tag-fraction\">999.900</span>, <span class=\"price-tag-fraction\">499.900</span>, <span class=\"price-tag-fraction\">13.886</span>, <span class=\"price-tag-fraction\">1.299.900</span>, <span class=\"price-tag-fraction\">659.900</span>, <span class=\"price-tag-fraction\">18.331</span>, <span class=\"price-tag-fraction\">1.099.000</span>, <span class=\"price-tag-fraction\">755.000</span>, <span class=\"price-tag-fraction\">20.972</span>, <span class=\"price-tag-fraction\">1.299.000</span>, <span class=\"price-tag-fraction\">979.000</span>, <span class=\"price-tag-fraction\">27.194</span>, <span class=\"price-tag-fraction\">1.020.000</span>, <span class=\"price-tag-fraction\">849.000</span>, <span class=\"price-tag-fraction\">23.583</span>, <span class=\"price-tag-fraction\">79.900</span>, <span class=\"price-tag-fraction\">44.900</span>, <span class=\"price-tag-fraction\">1.247</span>, <span class=\"price-tag-fraction\">749.900</span>, <span class=\"price-tag-fraction\">569.900</span>, <span class=\"price-tag-fraction\">15.831</span>, <span class=\"price-tag-fraction\">999.900</span>, <span class=\"price-tag-fraction\">629.900</span>, <span class=\"price-tag-fraction\">17.497</span>, <span class=\"price-tag-fraction\">284.000</span>, <span class=\"price-tag-fraction\">23.667</span>, <span class=\"price-tag-fraction\">592.714</span>, <span class=\"price-tag-fraction\">414.900</span>, <span class=\"price-tag-fraction\">11.525</span>, <span class=\"price-tag-fraction\">749.900</span>, <span class=\"price-tag-fraction\">20.831</span>, <span class=\"price-tag-fraction\">782.900</span>, <span class=\"price-tag-fraction\">21.747</span>, <span class=\"price-tag-fraction\">3.799.000</span>, <span class=\"price-tag-fraction\">3.449.000</span>, <span class=\"price-tag-fraction\">95.806</span>, <span class=\"price-tag-fraction\">1.475.000</span>, <span class=\"price-tag-fraction\">1.145.000</span>, <span class=\"price-tag-fraction\">31.806</span>, <span class=\"price-tag-fraction\">1.949.000</span>, <span class=\"price-tag-fraction\">1.525.000</span>, <span class=\"price-tag-fraction\">42.361</span>, <span class=\"price-tag-fraction\">1.169.900</span>, <span class=\"price-tag-fraction\">1.099.900</span>, <span class=\"price-tag-fraction\">30.553</span>, <span class=\"price-tag-fraction\">1.899.900</span>, <span class=\"price-tag-fraction\">1.109.900</span>, <span class=\"price-tag-fraction\">30.831</span>, <span class=\"price-tag-fraction\">999.900</span>, <span class=\"price-tag-fraction\">779.900</span>, <span class=\"price-tag-fraction\">21.664</span>, <span class=\"price-tag-fraction\">1.349.000</span>, <span class=\"price-tag-fraction\">845.000</span>, <span class=\"price-tag-fraction\">23.472</span>, <span class=\"price-tag-fraction\">1.099.900</span>, <span class=\"price-tag-fraction\">899.900</span>, <span class=\"price-tag-fraction\">24.997</span>, <span class=\"price-tag-fraction\">2.350.000</span>, <span class=\"price-tag-fraction\">1.739.000</span>, <span class=\"price-tag-fraction\">48.306</span>, <span class=\"price-tag-fraction\">3.589.000</span>, <span class=\"price-tag-fraction\">3.199.000</span>, <span class=\"price-tag-fraction\">88.861</span>, <span class=\"price-tag-fraction\">2.059.000</span>, <span class=\"price-tag-fraction\">57.194</span>, <span class=\"price-tag-fraction\">779.900</span>, <span class=\"price-tag-fraction\">699.900</span>, <span class=\"price-tag-fraction\">19.442</span>, <span class=\"price-tag-fraction\">699.900</span>, <span class=\"price-tag-fraction\">19.442</span>, <span class=\"price-tag-fraction\">999.000</span>, <span class=\"price-tag-fraction\">669.000</span>, <span class=\"price-tag-fraction\">18.583</span>, <span class=\"price-tag-fraction\">469.900</span>, <span class=\"price-tag-fraction\">369.900</span>, <span class=\"price-tag-fraction\">10.275</span>, <span class=\"price-tag-fraction\">499.900</span>, <span class=\"price-tag-fraction\">13.886</span>, <span class=\"price-tag-fraction\">1.129.000</span>, <span class=\"price-tag-fraction\">775.000</span>, <span class=\"price-tag-fraction\">21.528</span>, <span class=\"price-tag-fraction\">1.599.000</span>, <span class=\"price-tag-fraction\">1.219.000</span>, <span class=\"price-tag-fraction\">33.861</span>, <span class=\"price-tag-fraction\">1.189.999</span>, <span class=\"price-tag-fraction\">33.056</span>, <span class=\"price-tag-fraction\">95.900</span>, <span class=\"price-tag-fraction\">2.664</span>, <span class=\"price-tag-fraction\">3.799.000</span>, <span class=\"price-tag-fraction\">3.189.000</span>, <span class=\"price-tag-fraction\">88.583</span>, <span class=\"price-tag-fraction\">1.299.900</span>, <span class=\"price-tag-fraction\">1.145.900</span>, <span class=\"price-tag-fraction\">31.831</span>, <span class=\"price-tag-fraction\">1.199.000</span>, <span class=\"price-tag-fraction\">869.000</span>, <span class=\"price-tag-fraction\">24.139</span>, <span class=\"price-tag-fraction\">1.285.000</span>, <span class=\"price-tag-fraction\">905.000</span>, <span class=\"price-tag-fraction\">25.139</span>, <span class=\"price-tag-fraction\">2.149.000</span>, <span class=\"price-tag-fraction\">1.449.000</span>, <span class=\"price-tag-fraction\">40.250</span>, <span class=\"price-tag-fraction\">1.499.900</span>, <span class=\"price-tag-fraction\">999.900</span>, <span class=\"price-tag-fraction\">27.775</span>, <span class=\"price-tag-fraction\">3.449.999</span>, <span class=\"price-tag-fraction\">95.833</span>, <span class=\"price-tag-fraction\">599.900</span>, <span class=\"price-tag-fraction\">16.664</span>, <span class=\"price-tag-fraction\">699.900</span>, <span class=\"price-tag-fraction\">499.900</span>, <span class=\"price-tag-fraction\">41.658</span>, <span class=\"price-tag-fraction\">777.900</span>, <span class=\"price-tag-fraction\">699.900</span>, <span class=\"price-tag-fraction\">19.442</span>, <span class=\"price-tag-fraction\">1.319.000</span>, <span class=\"price-tag-fraction\">999.000</span>, <span class=\"price-tag-fraction\">27.750</span>, <span class=\"price-tag-fraction\">1.499.900</span>, <span class=\"price-tag-fraction\">1.249.900</span>, <span class=\"price-tag-fraction\">34.719</span>]\n",
            "['Celular Xiaomi Redmi Note 9 128gb 48mp 4gb Ram Bat 5020mah ', 'Celular Libre Xiaomi Redmi Note 9 128gb 48mpx 4g Lte', 'Celular Xiaomi Redmi Note 8 /64gb/48mp/4ram + Forro Y Vidrio', 'Celular Xiaomi Redmi Note 9 Pro 128gb/6 Ram / 64mp + Forro ', 'Celular Xiaomi Redmi Note 9s /128gb/48mp/ 6ram + Forro', 'Celular Libre Xiaomi Redmi Note 8 64gb 48mpx 4g Lte', 'Celular Xiaomi Redmi Note 8 Global 128gb 4 Ram Garantía 12 M', 'Celular Samsung Galaxy A31 Negro Dual Sim 128 Gb ', 'Celular Samsung Galaxy M31 128gb+6gb+4camáras', 'Celular Motorola One Action Color Blanco', 'Celular Motorola Moto One Macro', ' Celular Motorola Moto G8 Plus 64gb', 'Celular Xiaomi Redmi Note 9 /128gb/48mp/4ram + Forro', 'Celular Xiaomi Redmi Note 9 Pro  /64gb/64mp/6ram + Forro', 'Celular Xiaomi Redmi Note 9s /64gb/48mp/4ram + Forro', 'Celular Libre Panasonic Gd100s Radio Fm Linterna Dual Sim 2g', 'Celular Xiaomi Redmi 9 64 Gb 4 Gb Ram 4 Camaras + Forro', 'Celular Xiaomi Redmi Note 8 Global 64 Gb 4 Ram Garantía 12 M', 'Celular Caterpillar Cat B26  Resistente Polvo / Agua Ip68', 'Celular Tecno Spark 5 Air 32gb+2gb', 'Celular Libre Xiaomi Redmi Note 8 128gb 48mp 4000 Mah 4g Lte', 'Samsung Galaxy A30s 128gb 4g', 'Celular iPhone 11 128gb Nuevo 100% Original Y Sellada ', 'Celular Samsung A51 /128gb/ 4ram / 48mp + Vidrio Y Forro', 'Celular Samsung A71 /128gb/ 6ram / 64mp + Vidrio Y Forro', 'Celular Samsung Galaxy A31 Negro Dual Sim 128 Gb ', 'Celular Samsung Galaxy M31 128gb+6gb+4camáras', 'Xioami Note 9 128gb 4gb Ram', 'Celular Xiaomi Redmi Note 8 Pro /64gb/64mp/ 6 Ram + Forro', 'Celular Libre Xiaomi Redmi Note 9s 64gb 48mp 4gb 4g Lte ', 'Celular Xiaomi Mi Note 10 /128gb/108mp/6ram/6.47  + Forro ', 'Celular iPhone 11 64gb Sellado Nuevo 4g', 'Celular iPhone SE 2020 64gb Chip A13', 'Huawei Y9 Prime 2019 4g', 'Motorola Moto G8 Power 4g ', 'Celular Xiaomi Redmi Note 9 /64gb/48mp/3ram + Forro', 'Celular 4g 3gb/32gb/128gb Sd Dual Sim Neffos C9', 'Motorola Moto G8 Play 4g', 'Celular Xiaomi Redmi Note 9 /128gb/48mp/4ram+ Forro Y Vidrio', 'Celular Xiaomi Redmi Note 9 Pro 128gb/64mp + Forro Y Vidrio ', 'Xiaomi Note 9 Pro 128gb Nuevo-sellado-garantia', 'Celular Nokia 106 ', 'Celular Samsung Galaxy S20+ Plus 128gb Ram 8gb Cam 64mpx', 'Samsung Galaxy A51 4g', 'Celular Huawei P30 Lite 128gb / 4ram 3cam+ Forro Y Vidrio 5d', 'Celular Xiaomi Redmi Note 8 Pro /128gb/64mp/ 6 Ram + Forro', 'Celular Xiaomi Mi Note 10 Lite /128gb/64mp/6ram + Forro ', 'Celular Xiaomi Redmi Note 9s Global 128gb 6 Ram Garantía 12m', 'iPhone 11 128gb Nuevo-sellado-garantia', 'Motorola Moto G8 Power Lite 4g', 'Celular Huawei Honor 10 Lite 32gb 24mp Huella 4g Lte ', 'LG K61 128gb', 'Celular Xiaomi Redmi Note 9 Pro /64gb/64mp + Forro Y Vidrio', 'Celular Realme 6 Pro 128gb 8gb Ram 64mpx 4300mah 4g Lte']\n",
            "['Celular Xiaomi Redmi Note 9 128gb 48mp 4gb Ram Bat 5020mah ', 'Celular Libre Xiaomi Redmi Note 9 128gb 48mpx 4g Lte', 'Celular Xiaomi Redmi Note 8 /64gb/48mp/4ram + Forro Y Vidrio', 'Celular Xiaomi Redmi Note 9 Pro 128gb/6 Ram / 64mp + Forro ', 'Celular Xiaomi Redmi Note 9s /128gb/48mp/ 6ram + Forro', 'Celular Libre Xiaomi Redmi Note 8 64gb 48mpx 4g Lte', 'Celular Xiaomi Redmi Note 8 Global 128gb 4 Ram Garantía 12 M', 'Celular Samsung Galaxy A31 Negro Dual Sim 128 Gb ', 'Celular Samsung Galaxy M31 128gb+6gb+4camáras', 'Celular Motorola One Action Color Blanco', 'Celular Motorola Moto One Macro', ' Celular Motorola Moto G8 Plus 64gb', 'Celular Xiaomi Redmi Note 9 /128gb/48mp/4ram + Forro', 'Celular Xiaomi Redmi Note 9 Pro  /64gb/64mp/6ram + Forro', 'Celular Xiaomi Redmi Note 9s /64gb/48mp/4ram + Forro', 'Celular Libre Panasonic Gd100s Radio Fm Linterna Dual Sim 2g', 'Celular Xiaomi Redmi 9 64 Gb 4 Gb Ram 4 Camaras + Forro', 'Celular Xiaomi Redmi Note 8 Global 64 Gb 4 Ram Garantía 12 M', 'Celular Caterpillar Cat B26  Resistente Polvo / Agua Ip68', 'Celular Tecno Spark 5 Air 32gb+2gb', 'Celular Libre Xiaomi Redmi Note 8 128gb 48mp 4000 Mah 4g Lte', 'Samsung Galaxy A30s 128gb 4g', 'Celular iPhone 11 128gb Nuevo 100% Original Y Sellada ', 'Celular Samsung A51 /128gb/ 4ram / 48mp + Vidrio Y Forro', 'Celular Samsung A71 /128gb/ 6ram / 64mp + Vidrio Y Forro', 'Celular Samsung Galaxy A31 Negro Dual Sim 128 Gb ', 'Celular Samsung Galaxy M31 128gb+6gb+4camáras', 'Xioami Note 9 128gb 4gb Ram', 'Celular Xiaomi Redmi Note 8 Pro /64gb/64mp/ 6 Ram + Forro', 'Celular Libre Xiaomi Redmi Note 9s 64gb 48mp 4gb 4g Lte ', 'Celular Xiaomi Mi Note 10 /128gb/108mp/6ram/6.47  + Forro ', 'Celular iPhone 11 64gb Sellado Nuevo 4g', 'Celular iPhone SE 2020 64gb Chip A13', 'Huawei Y9 Prime 2019 4g', 'Motorola Moto G8 Power 4g ', 'Celular Xiaomi Redmi Note 9 /64gb/48mp/3ram + Forro', 'Celular 4g 3gb/32gb/128gb Sd Dual Sim Neffos C9', 'Motorola Moto G8 Play 4g', 'Celular Xiaomi Redmi Note 9 /128gb/48mp/4ram+ Forro Y Vidrio', 'Celular Xiaomi Redmi Note 9 Pro 128gb/64mp + Forro Y Vidrio ', 'Xiaomi Note 9 Pro 128gb Nuevo-sellado-garantia', 'Celular Nokia 106 ', 'Celular Samsung Galaxy S20+ Plus 128gb Ram 8gb Cam 64mpx', 'Samsung Galaxy A51 4g', 'Celular Huawei P30 Lite 128gb / 4ram 3cam+ Forro Y Vidrio 5d', 'Celular Xiaomi Redmi Note 8 Pro /128gb/64mp/ 6 Ram + Forro', 'Celular Xiaomi Mi Note 10 Lite /128gb/64mp/6ram + Forro ', 'Celular Xiaomi Redmi Note 9s Global 128gb 6 Ram Garantía 12m', 'iPhone 11 128gb Nuevo-sellado-garantia', 'Motorola Moto G8 Power Lite 4g', 'Celular Huawei Honor 10 Lite 32gb 24mp Huella 4g Lte ', 'LG K61 128gb', 'Celular Xiaomi Redmi Note 9 Pro /64gb/64mp + Forro Y Vidrio', 'Celular Realme 6 Pro 128gb 8gb Ram 64mpx 4300mah 4g Lte']\n",
            "['1.199.900', '729.900', '20.275', '1.299.900', '779.900', '21.664', '1.159.000', '679.900', '18.886', '1.569.000', '1.199.000', '33.306', '1.499.000', '925.000', '25.694', '1.159.900', '639.900', '17.775', '1.199.900', '689.900', '19.164', '1.169.900', '1.099.900', '30.553', '1.899.900', '1.109.900', '30.831', '1.299.900', '679.900', '18.886', '999.900', '499.900', '13.886', '1.299.900', '659.900', '18.331', '1.099.000', '755.000', '20.972', '1.299.000', '979.000', '27.194', '1.020.000', '849.000', '23.583', '79.900', '44.900', '1.247', '749.900', '569.900', '15.831', '999.900', '629.900', '17.497', '284.000', '23.667', '592.714', '414.900', '11.525', '749.900', '20.831', '782.900', '21.747', '3.799.000', '3.449.000', '95.806', '1.475.000', '1.145.000', '31.806', '1.949.000', '1.525.000', '42.361', '1.169.900', '1.099.900', '30.553', '1.899.900', '1.109.900', '30.831', '999.900', '779.900', '21.664', '1.349.000', '845.000', '23.472', '1.099.900', '899.900', '24.997', '2.350.000', '1.739.000', '48.306', '3.589.000', '3.199.000', '88.861', '2.059.000', '57.194', '779.900', '699.900', '19.442', '699.900', '19.442', '999.000', '669.000', '18.583', '469.900', '369.900', '10.275', '499.900', '13.886', '1.129.000', '775.000', '21.528', '1.599.000', '1.219.000', '33.861', '1.189.999', '33.056', '95.900', '2.664', '3.799.000', '3.189.000', '88.583', '1.299.900', '1.145.900', '31.831', '1.199.000', '869.000', '24.139', '1.285.000', '905.000', '25.139', '2.149.000', '1.449.000', '40.250', '1.499.900', '999.900', '27.775', '3.449.999', '95.833', '599.900', '16.664', '699.900', '499.900', '41.658', '777.900', '699.900', '19.442', '1.319.000', '999.000', '27.750', '1.499.900', '1.249.900', '34.719']\n"
          ],
          "name": "stdout"
        }
      ]
    },
    {
      "cell_type": "markdown",
      "metadata": {
        "id": "ygDvW5_UDBbd",
        "colab_type": "text"
      },
      "source": [
        "2."
      ]
    },
    {
      "cell_type": "code",
      "metadata": {
        "id": "LlypFbTT-xom",
        "colab_type": "code",
        "colab": {
          "base_uri": "https://localhost:8080/",
          "height": 68
        },
        "outputId": "351fdc8a-17ef-4c0e-cf73-a947f66bc3b5"
      },
      "source": [
        "print(len(nombreCelulares))\n",
        "print(len(listaPrecios))\n",
        "listaPrecios= listaPrecios[:54]\n",
        "print(len(listaPrecios))"
      ],
      "execution_count": null,
      "outputs": [
        {
          "output_type": "stream",
          "text": [
            "54\n",
            "54\n",
            "54\n"
          ],
          "name": "stdout"
        }
      ]
    },
    {
      "cell_type": "code",
      "metadata": {
        "id": "EJAD1xYV8bFm",
        "colab_type": "code",
        "colab": {}
      },
      "source": [
        "3."
      ],
      "execution_count": null,
      "outputs": []
    },
    {
      "cell_type": "code",
      "metadata": {
        "id": "dqBFSZqT8bd5",
        "colab_type": "code",
        "colab": {
          "base_uri": "https://localhost:8080/",
          "height": 34
        },
        "outputId": "3987912a-6008-45f7-b3c4-b2121826ceb0"
      },
      "source": [
        "import pandas as pd\n",
        "dictCelulares = {}\n",
        "dictCelulares ['Titulos'] = nombreCelulares\n",
        "print (len (nombreCelulares), len (listaPrecios))\n",
        "dictCelulares ['Precios'] = listaPrecios\n",
        "celularesDataFrame = pd.DataFrame(dictCelulares)\n",
        "celularesDataFrame.to_csv('Celulares.csv', index=False)"
      ],
      "execution_count": null,
      "outputs": [
        {
          "output_type": "stream",
          "text": [
            "54 54\n"
          ],
          "name": "stdout"
        }
      ]
    },
    {
      "cell_type": "markdown",
      "metadata": {
        "id": "kcVU6gX1CQGf",
        "colab_type": "text"
      },
      "source": [
        "4."
      ]
    },
    {
      "cell_type": "code",
      "metadata": {
        "id": "VkoEMbbE-j8P",
        "colab_type": "code",
        "colab": {
          "base_uri": "https://localhost:8080/",
          "height": 71
        },
        "outputId": "9832aedf-f16a-40d3-af6a-3768362319ab"
      },
      "source": [
        "funcionAgregarCelular = lambda elemento : 'celular : ' + elemento\n",
        "titulosCelulares = list (map(funcionAgregarCelular,nombreCelulares))\n",
        "print (titulosCelulares)\n",
        "titulosCelulares2 = funcionListaDatos (funcionAgregarCelular, nombreCelulares)\n",
        "print (titulosCelulares2)\n",
        "dictCelulares = {}\n",
        "dictCelulares['Titulos'] = titulosCelulares2\n",
        "dictCelulares ['Precios'] = listaPrecios\n",
        "celularesDF = pd.DataFrame(dictCelulares)\n",
        "celularesDF.to_csv('celularesMod.csv', index= False) "
      ],
      "execution_count": null,
      "outputs": [
        {
          "output_type": "stream",
          "text": [
            "['celular : Celular Xiaomi Redmi Note 9 128gb 48mp 4gb Ram Bat 5020mah ', 'celular : Celular Libre Xiaomi Redmi Note 9 128gb 48mpx 4g Lte', 'celular : Celular Xiaomi Redmi Note 8 /64gb/48mp/4ram + Forro Y Vidrio', 'celular : Celular Xiaomi Redmi Note 9 Pro 128gb/6 Ram / 64mp + Forro ', 'celular : Celular Xiaomi Redmi Note 9s /128gb/48mp/ 6ram + Forro', 'celular : Celular Libre Xiaomi Redmi Note 8 64gb 48mpx 4g Lte', 'celular : Celular Xiaomi Redmi Note 8 Global 128gb 4 Ram Garantía 12 M', 'celular : Celular Samsung Galaxy A31 Negro Dual Sim 128 Gb ', 'celular : Celular Samsung Galaxy M31 128gb+6gb+4camáras', 'celular : Celular Motorola One Action Color Blanco', 'celular : Celular Motorola Moto One Macro', 'celular :  Celular Motorola Moto G8 Plus 64gb', 'celular : Celular Xiaomi Redmi Note 9 /128gb/48mp/4ram + Forro', 'celular : Celular Xiaomi Redmi Note 9 Pro  /64gb/64mp/6ram + Forro', 'celular : Celular Xiaomi Redmi Note 9s /64gb/48mp/4ram + Forro', 'celular : Celular Libre Panasonic Gd100s Radio Fm Linterna Dual Sim 2g', 'celular : Celular Xiaomi Redmi 9 64 Gb 4 Gb Ram 4 Camaras + Forro', 'celular : Celular Xiaomi Redmi Note 8 Global 64 Gb 4 Ram Garantía 12 M', 'celular : Celular Caterpillar Cat B26  Resistente Polvo / Agua Ip68', 'celular : Celular Tecno Spark 5 Air 32gb+2gb', 'celular : Celular Libre Xiaomi Redmi Note 8 128gb 48mp 4000 Mah 4g Lte', 'celular : Samsung Galaxy A30s 128gb 4g', 'celular : Celular iPhone 11 128gb Nuevo 100% Original Y Sellada ', 'celular : Celular Samsung A51 /128gb/ 4ram / 48mp + Vidrio Y Forro', 'celular : Celular Samsung A71 /128gb/ 6ram / 64mp + Vidrio Y Forro', 'celular : Celular Samsung Galaxy A31 Negro Dual Sim 128 Gb ', 'celular : Celular Samsung Galaxy M31 128gb+6gb+4camáras', 'celular : Xioami Note 9 128gb 4gb Ram', 'celular : Celular Xiaomi Redmi Note 8 Pro /64gb/64mp/ 6 Ram + Forro', 'celular : Celular Libre Xiaomi Redmi Note 9s 64gb 48mp 4gb 4g Lte ', 'celular : Celular Xiaomi Mi Note 10 /128gb/108mp/6ram/6.47  + Forro ', 'celular : Celular iPhone 11 64gb Sellado Nuevo 4g', 'celular : Celular iPhone SE 2020 64gb Chip A13', 'celular : Huawei Y9 Prime 2019 4g', 'celular : Motorola Moto G8 Power 4g ', 'celular : Celular Xiaomi Redmi Note 9 /64gb/48mp/3ram + Forro', 'celular : Celular 4g 3gb/32gb/128gb Sd Dual Sim Neffos C9', 'celular : Motorola Moto G8 Play 4g', 'celular : Celular Xiaomi Redmi Note 9 /128gb/48mp/4ram+ Forro Y Vidrio', 'celular : Celular Xiaomi Redmi Note 9 Pro 128gb/64mp + Forro Y Vidrio ', 'celular : Xiaomi Note 9 Pro 128gb Nuevo-sellado-garantia', 'celular : Celular Nokia 106 ', 'celular : Celular Samsung Galaxy S20+ Plus 128gb Ram 8gb Cam 64mpx', 'celular : Samsung Galaxy A51 4g', 'celular : Celular Huawei P30 Lite 128gb / 4ram 3cam+ Forro Y Vidrio 5d', 'celular : Celular Xiaomi Redmi Note 8 Pro /128gb/64mp/ 6 Ram + Forro', 'celular : Celular Xiaomi Mi Note 10 Lite /128gb/64mp/6ram + Forro ', 'celular : Celular Xiaomi Redmi Note 9s Global 128gb 6 Ram Garantía 12m', 'celular : iPhone 11 128gb Nuevo-sellado-garantia', 'celular : Motorola Moto G8 Power Lite 4g', 'celular : Celular Huawei Honor 10 Lite 32gb 24mp Huella 4g Lte ', 'celular : LG K61 128gb', 'celular : Celular Xiaomi Redmi Note 9 Pro /64gb/64mp + Forro Y Vidrio', 'celular : Celular Realme 6 Pro 128gb 8gb Ram 64mpx 4300mah 4g Lte']\n",
            "['celular : Celular Xiaomi Redmi Note 9 128gb 48mp 4gb Ram Bat 5020mah ', 'celular : Celular Libre Xiaomi Redmi Note 9 128gb 48mpx 4g Lte', 'celular : Celular Xiaomi Redmi Note 8 /64gb/48mp/4ram + Forro Y Vidrio', 'celular : Celular Xiaomi Redmi Note 9 Pro 128gb/6 Ram / 64mp + Forro ', 'celular : Celular Xiaomi Redmi Note 9s /128gb/48mp/ 6ram + Forro', 'celular : Celular Libre Xiaomi Redmi Note 8 64gb 48mpx 4g Lte', 'celular : Celular Xiaomi Redmi Note 8 Global 128gb 4 Ram Garantía 12 M', 'celular : Celular Samsung Galaxy A31 Negro Dual Sim 128 Gb ', 'celular : Celular Samsung Galaxy M31 128gb+6gb+4camáras', 'celular : Celular Motorola One Action Color Blanco', 'celular : Celular Motorola Moto One Macro', 'celular :  Celular Motorola Moto G8 Plus 64gb', 'celular : Celular Xiaomi Redmi Note 9 /128gb/48mp/4ram + Forro', 'celular : Celular Xiaomi Redmi Note 9 Pro  /64gb/64mp/6ram + Forro', 'celular : Celular Xiaomi Redmi Note 9s /64gb/48mp/4ram + Forro', 'celular : Celular Libre Panasonic Gd100s Radio Fm Linterna Dual Sim 2g', 'celular : Celular Xiaomi Redmi 9 64 Gb 4 Gb Ram 4 Camaras + Forro', 'celular : Celular Xiaomi Redmi Note 8 Global 64 Gb 4 Ram Garantía 12 M', 'celular : Celular Caterpillar Cat B26  Resistente Polvo / Agua Ip68', 'celular : Celular Tecno Spark 5 Air 32gb+2gb', 'celular : Celular Libre Xiaomi Redmi Note 8 128gb 48mp 4000 Mah 4g Lte', 'celular : Samsung Galaxy A30s 128gb 4g', 'celular : Celular iPhone 11 128gb Nuevo 100% Original Y Sellada ', 'celular : Celular Samsung A51 /128gb/ 4ram / 48mp + Vidrio Y Forro', 'celular : Celular Samsung A71 /128gb/ 6ram / 64mp + Vidrio Y Forro', 'celular : Celular Samsung Galaxy A31 Negro Dual Sim 128 Gb ', 'celular : Celular Samsung Galaxy M31 128gb+6gb+4camáras', 'celular : Xioami Note 9 128gb 4gb Ram', 'celular : Celular Xiaomi Redmi Note 8 Pro /64gb/64mp/ 6 Ram + Forro', 'celular : Celular Libre Xiaomi Redmi Note 9s 64gb 48mp 4gb 4g Lte ', 'celular : Celular Xiaomi Mi Note 10 /128gb/108mp/6ram/6.47  + Forro ', 'celular : Celular iPhone 11 64gb Sellado Nuevo 4g', 'celular : Celular iPhone SE 2020 64gb Chip A13', 'celular : Huawei Y9 Prime 2019 4g', 'celular : Motorola Moto G8 Power 4g ', 'celular : Celular Xiaomi Redmi Note 9 /64gb/48mp/3ram + Forro', 'celular : Celular 4g 3gb/32gb/128gb Sd Dual Sim Neffos C9', 'celular : Motorola Moto G8 Play 4g', 'celular : Celular Xiaomi Redmi Note 9 /128gb/48mp/4ram+ Forro Y Vidrio', 'celular : Celular Xiaomi Redmi Note 9 Pro 128gb/64mp + Forro Y Vidrio ', 'celular : Xiaomi Note 9 Pro 128gb Nuevo-sellado-garantia', 'celular : Celular Nokia 106 ', 'celular : Celular Samsung Galaxy S20+ Plus 128gb Ram 8gb Cam 64mpx', 'celular : Samsung Galaxy A51 4g', 'celular : Celular Huawei P30 Lite 128gb / 4ram 3cam+ Forro Y Vidrio 5d', 'celular : Celular Xiaomi Redmi Note 8 Pro /128gb/64mp/ 6 Ram + Forro', 'celular : Celular Xiaomi Mi Note 10 Lite /128gb/64mp/6ram + Forro ', 'celular : Celular Xiaomi Redmi Note 9s Global 128gb 6 Ram Garantía 12m', 'celular : iPhone 11 128gb Nuevo-sellado-garantia', 'celular : Motorola Moto G8 Power Lite 4g', 'celular : Celular Huawei Honor 10 Lite 32gb 24mp Huella 4g Lte ', 'celular : LG K61 128gb', 'celular : Celular Xiaomi Redmi Note 9 Pro /64gb/64mp + Forro Y Vidrio', 'celular : Celular Realme 6 Pro 128gb 8gb Ram 64mpx 4300mah 4g Lte']\n"
          ],
          "name": "stdout"
        }
      ]
    },
    {
      "cell_type": "markdown",
      "metadata": {
        "id": "kApWhcqfDmtE",
        "colab_type": "text"
      },
      "source": [
        "5."
      ]
    },
    {
      "cell_type": "code",
      "metadata": {
        "id": "o18C8O4DDn-p",
        "colab_type": "code",
        "colab": {
          "base_uri": "https://localhost:8080/",
          "height": 71
        },
        "outputId": "dbf13123-2f7f-4dec-dc1a-7960b9d765a8"
      },
      "source": [
        "samsung = lambda elemento : 'Samsung' in elemento \n",
        "xiaomi = lambda elemento : 'Xiaomi' in elemento\n",
        "\n",
        "listaSamsungs = list (filter(samsung, titulosCelulares))\n",
        "listaXiaomi = list (filter(xiaomi, titulosCelulares))\n",
        "print (listaSamsungs)\n",
        "print (listaXiaomi)\n",
        "\n",
        "\n",
        "samsungSerie = pd.Series(listaSamsungs)\n",
        "samsungSerie.to_csv('Celulares samsung.csv',  index_label='Samsung')\n",
        "xiaomiSerie = pd.Series(listaXiaomi)\n",
        "xiaomiSerie.to_csv('Celulares xiaomi.csv',  index_label='Xiaomi')\n"
      ],
      "execution_count": null,
      "outputs": [
        {
          "output_type": "stream",
          "text": [
            "['celular : Celular Samsung Galaxy A31 Negro Dual Sim 128 Gb ', 'celular : Celular Samsung Galaxy M31 128gb+6gb+4camáras', 'celular : Samsung Galaxy A30s 128gb 4g', 'celular : Celular Samsung A51 /128gb/ 4ram / 48mp + Vidrio Y Forro', 'celular : Celular Samsung A71 /128gb/ 6ram / 64mp + Vidrio Y Forro', 'celular : Celular Samsung Galaxy A31 Negro Dual Sim 128 Gb ', 'celular : Celular Samsung Galaxy M31 128gb+6gb+4camáras', 'celular : Celular Samsung Galaxy S20+ Plus 128gb Ram 8gb Cam 64mpx', 'celular : Samsung Galaxy A51 4g']\n",
            "['celular : Celular Xiaomi Redmi Note 9 128gb 48mp 4gb Ram Bat 5020mah ', 'celular : Celular Libre Xiaomi Redmi Note 9 128gb 48mpx 4g Lte', 'celular : Celular Xiaomi Redmi Note 8 /64gb/48mp/4ram + Forro Y Vidrio', 'celular : Celular Xiaomi Redmi Note 9 Pro 128gb/6 Ram / 64mp + Forro ', 'celular : Celular Xiaomi Redmi Note 9s /128gb/48mp/ 6ram + Forro', 'celular : Celular Libre Xiaomi Redmi Note 8 64gb 48mpx 4g Lte', 'celular : Celular Xiaomi Redmi Note 8 Global 128gb 4 Ram Garantía 12 M', 'celular : Celular Xiaomi Redmi Note 9 /128gb/48mp/4ram + Forro', 'celular : Celular Xiaomi Redmi Note 9 Pro  /64gb/64mp/6ram + Forro', 'celular : Celular Xiaomi Redmi Note 9s /64gb/48mp/4ram + Forro', 'celular : Celular Xiaomi Redmi 9 64 Gb 4 Gb Ram 4 Camaras + Forro', 'celular : Celular Xiaomi Redmi Note 8 Global 64 Gb 4 Ram Garantía 12 M', 'celular : Celular Libre Xiaomi Redmi Note 8 128gb 48mp 4000 Mah 4g Lte', 'celular : Celular Xiaomi Redmi Note 8 Pro /64gb/64mp/ 6 Ram + Forro', 'celular : Celular Libre Xiaomi Redmi Note 9s 64gb 48mp 4gb 4g Lte ', 'celular : Celular Xiaomi Mi Note 10 /128gb/108mp/6ram/6.47  + Forro ', 'celular : Celular Xiaomi Redmi Note 9 /64gb/48mp/3ram + Forro', 'celular : Celular Xiaomi Redmi Note 9 /128gb/48mp/4ram+ Forro Y Vidrio', 'celular : Celular Xiaomi Redmi Note 9 Pro 128gb/64mp + Forro Y Vidrio ', 'celular : Xiaomi Note 9 Pro 128gb Nuevo-sellado-garantia', 'celular : Celular Xiaomi Redmi Note 8 Pro /128gb/64mp/ 6 Ram + Forro', 'celular : Celular Xiaomi Mi Note 10 Lite /128gb/64mp/6ram + Forro ', 'celular : Celular Xiaomi Redmi Note 9s Global 128gb 6 Ram Garantía 12m', 'celular : Celular Xiaomi Redmi Note 9 Pro /64gb/64mp + Forro Y Vidrio']\n"
          ],
          "name": "stdout"
        }
      ]
    },
    {
      "cell_type": "markdown",
      "metadata": {
        "id": "2cfWFOjgEkJM",
        "colab_type": "text"
      },
      "source": [
        "6."
      ]
    },
    {
      "cell_type": "code",
      "metadata": {
        "id": "aXqkyd2lElKA",
        "colab_type": "code",
        "colab": {
          "base_uri": "https://localhost:8080/",
          "height": 54
        },
        "outputId": "1b6e3038-f970-4f68-f904-ac94d44a8095"
      },
      "source": [
        "from functools import reduce\n",
        "lista= titulosCelulares\n",
        "largo= lambda elemento : len(elemento)\n",
        "listalargos= list(map(largo,lista))\n",
        "print(listalargos)\n",
        "sumador=lambda elemento=0,acumulador=0:acumulador+elemento\n"
      ],
      "execution_count": 13,
      "outputs": [
        {
          "output_type": "stream",
          "text": [
            "[69, 62, 70, 69, 64, 61, 70, 59, 55, 50, 41, 45, 62, 66, 62, 70, 65, 70, 67, 44, 70, 38, 64, 66, 66, 59, 55, 37, 67, 66, 68, 49, 46, 33, 36, 61, 57, 34, 70, 70, 56, 28, 66, 31, 70, 68, 66, 70, 48, 40, 63, 22, 69, 65]\n"
          ],
          "name": "stdout"
        }
      ]
    },
    {
      "cell_type": "markdown",
      "metadata": {
        "id": "6fBUpDrfHZZj",
        "colab_type": "text"
      },
      "source": [
        "7."
      ]
    },
    {
      "cell_type": "code",
      "metadata": {
        "id": "o12cqVfuHb_n",
        "colab_type": "code",
        "colab": {
          "base_uri": "https://localhost:8080/",
          "height": 34
        },
        "outputId": "58589985-e2e8-42b3-d35f-29a7434cef25"
      },
      "source": [
        "nombresCortos = lambda elemento : len (elemento) < 25\n",
        "listaNombresFiltrados = list (filter (nombresCortos, titulosCelulares))\n",
        "print (listaNombresFiltrados)"
      ],
      "execution_count": 12,
      "outputs": [
        {
          "output_type": "stream",
          "text": [
            "['celular : LG K61 128gb']\n"
          ],
          "name": "stdout"
        }
      ]
    },
    {
      "cell_type": "markdown",
      "metadata": {
        "id": "ldTH623gI1rN",
        "colab_type": "text"
      },
      "source": [
        "8."
      ]
    },
    {
      "cell_type": "code",
      "metadata": {
        "id": "6YMKi5X-I26p",
        "colab_type": "code",
        "colab": {
          "base_uri": "https://localhost:8080/",
          "height": 71
        },
        "outputId": "8d9097a1-6960-41fd-fb27-773046d47929"
      },
      "source": [
        "from functools import reduce\n",
        "lista= titulosCelulares\n",
        "largo= lambda elemento : len(elemento)\n",
        "listalargos= list(map(largo,lista))\n",
        "print(listalargos)\n",
        "sumador=lambda elemento=0,acumulador=0:acumulador+elemento\n",
        "promedio = reduce (sumador,listalargos)/len(titulosCelulares)\n",
        "print(promedio)"
      ],
      "execution_count": 14,
      "outputs": [
        {
          "output_type": "stream",
          "text": [
            "[69, 62, 70, 69, 64, 61, 70, 59, 55, 50, 41, 45, 62, 66, 62, 70, 65, 70, 67, 44, 70, 38, 64, 66, 66, 59, 55, 37, 67, 66, 68, 49, 46, 33, 36, 61, 57, 34, 70, 70, 56, 28, 66, 31, 70, 68, 66, 70, 48, 40, 63, 22, 69, 65]\n",
            "57.31481481481482\n"
          ],
          "name": "stdout"
        }
      ]
    },
    {
      "cell_type": "markdown",
      "metadata": {
        "id": "QtEnyzaFKGYx",
        "colab_type": "text"
      },
      "source": [
        "10."
      ]
    },
    {
      "cell_type": "code",
      "metadata": {
        "id": "OUaHo5IyKHll",
        "colab_type": "code",
        "colab": {
          "base_uri": "https://localhost:8080/",
          "height": 1000
        },
        "outputId": "74a34907-f842-4e9e-9ff1-a922f6fbacd2"
      },
      "source": [
        "celularesDF"
      ],
      "execution_count": 16,
      "outputs": [
        {
          "output_type": "execute_result",
          "data": {
            "text/html": [
              "<div>\n",
              "<style scoped>\n",
              "    .dataframe tbody tr th:only-of-type {\n",
              "        vertical-align: middle;\n",
              "    }\n",
              "\n",
              "    .dataframe tbody tr th {\n",
              "        vertical-align: top;\n",
              "    }\n",
              "\n",
              "    .dataframe thead th {\n",
              "        text-align: right;\n",
              "    }\n",
              "</style>\n",
              "<table border=\"1\" class=\"dataframe\">\n",
              "  <thead>\n",
              "    <tr style=\"text-align: right;\">\n",
              "      <th></th>\n",
              "      <th>Titulos</th>\n",
              "      <th>Precios</th>\n",
              "    </tr>\n",
              "  </thead>\n",
              "  <tbody>\n",
              "    <tr>\n",
              "      <th>0</th>\n",
              "      <td>celular : Celular Xiaomi Redmi Note 9 128gb 48...</td>\n",
              "      <td>1.199.900</td>\n",
              "    </tr>\n",
              "    <tr>\n",
              "      <th>1</th>\n",
              "      <td>celular : Celular Libre Xiaomi Redmi Note 9 12...</td>\n",
              "      <td>729.900</td>\n",
              "    </tr>\n",
              "    <tr>\n",
              "      <th>2</th>\n",
              "      <td>celular : Celular Xiaomi Redmi Note 8 /64gb/48...</td>\n",
              "      <td>20.275</td>\n",
              "    </tr>\n",
              "    <tr>\n",
              "      <th>3</th>\n",
              "      <td>celular : Celular Xiaomi Redmi Note 9 Pro 128g...</td>\n",
              "      <td>1.299.900</td>\n",
              "    </tr>\n",
              "    <tr>\n",
              "      <th>4</th>\n",
              "      <td>celular : Celular Xiaomi Redmi Note 9s /128gb/...</td>\n",
              "      <td>779.900</td>\n",
              "    </tr>\n",
              "    <tr>\n",
              "      <th>5</th>\n",
              "      <td>celular : Celular Libre Xiaomi Redmi Note 8 64...</td>\n",
              "      <td>21.664</td>\n",
              "    </tr>\n",
              "    <tr>\n",
              "      <th>6</th>\n",
              "      <td>celular : Celular Xiaomi Redmi Note 8 Global 1...</td>\n",
              "      <td>1.159.000</td>\n",
              "    </tr>\n",
              "    <tr>\n",
              "      <th>7</th>\n",
              "      <td>celular : Celular Samsung Galaxy A31 Negro Dua...</td>\n",
              "      <td>679.900</td>\n",
              "    </tr>\n",
              "    <tr>\n",
              "      <th>8</th>\n",
              "      <td>celular : Celular Samsung Galaxy M31 128gb+6gb...</td>\n",
              "      <td>18.886</td>\n",
              "    </tr>\n",
              "    <tr>\n",
              "      <th>9</th>\n",
              "      <td>celular : Celular Motorola One Action Color Bl...</td>\n",
              "      <td>1.569.000</td>\n",
              "    </tr>\n",
              "    <tr>\n",
              "      <th>10</th>\n",
              "      <td>celular : Celular Motorola Moto One Macro</td>\n",
              "      <td>1.199.000</td>\n",
              "    </tr>\n",
              "    <tr>\n",
              "      <th>11</th>\n",
              "      <td>celular :  Celular Motorola Moto G8 Plus 64gb</td>\n",
              "      <td>33.306</td>\n",
              "    </tr>\n",
              "    <tr>\n",
              "      <th>12</th>\n",
              "      <td>celular : Celular Xiaomi Redmi Note 9 /128gb/4...</td>\n",
              "      <td>1.499.000</td>\n",
              "    </tr>\n",
              "    <tr>\n",
              "      <th>13</th>\n",
              "      <td>celular : Celular Xiaomi Redmi Note 9 Pro  /64...</td>\n",
              "      <td>925.000</td>\n",
              "    </tr>\n",
              "    <tr>\n",
              "      <th>14</th>\n",
              "      <td>celular : Celular Xiaomi Redmi Note 9s /64gb/4...</td>\n",
              "      <td>25.694</td>\n",
              "    </tr>\n",
              "    <tr>\n",
              "      <th>15</th>\n",
              "      <td>celular : Celular Libre Panasonic Gd100s Radio...</td>\n",
              "      <td>1.159.900</td>\n",
              "    </tr>\n",
              "    <tr>\n",
              "      <th>16</th>\n",
              "      <td>celular : Celular Xiaomi Redmi 9 64 Gb 4 Gb Ra...</td>\n",
              "      <td>639.900</td>\n",
              "    </tr>\n",
              "    <tr>\n",
              "      <th>17</th>\n",
              "      <td>celular : Celular Xiaomi Redmi Note 8 Global 6...</td>\n",
              "      <td>17.775</td>\n",
              "    </tr>\n",
              "    <tr>\n",
              "      <th>18</th>\n",
              "      <td>celular : Celular Caterpillar Cat B26  Resiste...</td>\n",
              "      <td>1.199.900</td>\n",
              "    </tr>\n",
              "    <tr>\n",
              "      <th>19</th>\n",
              "      <td>celular : Celular Tecno Spark 5 Air 32gb+2gb</td>\n",
              "      <td>689.900</td>\n",
              "    </tr>\n",
              "    <tr>\n",
              "      <th>20</th>\n",
              "      <td>celular : Celular Libre Xiaomi Redmi Note 8 12...</td>\n",
              "      <td>19.164</td>\n",
              "    </tr>\n",
              "    <tr>\n",
              "      <th>21</th>\n",
              "      <td>celular : Samsung Galaxy A30s 128gb 4g</td>\n",
              "      <td>1.169.900</td>\n",
              "    </tr>\n",
              "    <tr>\n",
              "      <th>22</th>\n",
              "      <td>celular : Celular iPhone 11 128gb Nuevo 100% O...</td>\n",
              "      <td>1.099.900</td>\n",
              "    </tr>\n",
              "    <tr>\n",
              "      <th>23</th>\n",
              "      <td>celular : Celular Samsung A51 /128gb/ 4ram / 4...</td>\n",
              "      <td>30.553</td>\n",
              "    </tr>\n",
              "    <tr>\n",
              "      <th>24</th>\n",
              "      <td>celular : Celular Samsung A71 /128gb/ 6ram / 6...</td>\n",
              "      <td>1.899.900</td>\n",
              "    </tr>\n",
              "    <tr>\n",
              "      <th>25</th>\n",
              "      <td>celular : Celular Samsung Galaxy A31 Negro Dua...</td>\n",
              "      <td>1.109.900</td>\n",
              "    </tr>\n",
              "    <tr>\n",
              "      <th>26</th>\n",
              "      <td>celular : Celular Samsung Galaxy M31 128gb+6gb...</td>\n",
              "      <td>30.831</td>\n",
              "    </tr>\n",
              "    <tr>\n",
              "      <th>27</th>\n",
              "      <td>celular : Xioami Note 9 128gb 4gb Ram</td>\n",
              "      <td>1.299.900</td>\n",
              "    </tr>\n",
              "    <tr>\n",
              "      <th>28</th>\n",
              "      <td>celular : Celular Xiaomi Redmi Note 8 Pro /64g...</td>\n",
              "      <td>679.900</td>\n",
              "    </tr>\n",
              "    <tr>\n",
              "      <th>29</th>\n",
              "      <td>celular : Celular Libre Xiaomi Redmi Note 9s 6...</td>\n",
              "      <td>18.886</td>\n",
              "    </tr>\n",
              "    <tr>\n",
              "      <th>30</th>\n",
              "      <td>celular : Celular Xiaomi Mi Note 10 /128gb/108...</td>\n",
              "      <td>999.900</td>\n",
              "    </tr>\n",
              "    <tr>\n",
              "      <th>31</th>\n",
              "      <td>celular : Celular iPhone 11 64gb Sellado Nuevo 4g</td>\n",
              "      <td>499.900</td>\n",
              "    </tr>\n",
              "    <tr>\n",
              "      <th>32</th>\n",
              "      <td>celular : Celular iPhone SE 2020 64gb Chip A13</td>\n",
              "      <td>13.886</td>\n",
              "    </tr>\n",
              "    <tr>\n",
              "      <th>33</th>\n",
              "      <td>celular : Huawei Y9 Prime 2019 4g</td>\n",
              "      <td>1.299.900</td>\n",
              "    </tr>\n",
              "    <tr>\n",
              "      <th>34</th>\n",
              "      <td>celular : Motorola Moto G8 Power 4g</td>\n",
              "      <td>659.900</td>\n",
              "    </tr>\n",
              "    <tr>\n",
              "      <th>35</th>\n",
              "      <td>celular : Celular Xiaomi Redmi Note 9 /64gb/48...</td>\n",
              "      <td>18.331</td>\n",
              "    </tr>\n",
              "    <tr>\n",
              "      <th>36</th>\n",
              "      <td>celular : Celular 4g 3gb/32gb/128gb Sd Dual Si...</td>\n",
              "      <td>1.099.000</td>\n",
              "    </tr>\n",
              "    <tr>\n",
              "      <th>37</th>\n",
              "      <td>celular : Motorola Moto G8 Play 4g</td>\n",
              "      <td>755.000</td>\n",
              "    </tr>\n",
              "    <tr>\n",
              "      <th>38</th>\n",
              "      <td>celular : Celular Xiaomi Redmi Note 9 /128gb/4...</td>\n",
              "      <td>20.972</td>\n",
              "    </tr>\n",
              "    <tr>\n",
              "      <th>39</th>\n",
              "      <td>celular : Celular Xiaomi Redmi Note 9 Pro 128g...</td>\n",
              "      <td>1.299.000</td>\n",
              "    </tr>\n",
              "    <tr>\n",
              "      <th>40</th>\n",
              "      <td>celular : Xiaomi Note 9 Pro 128gb Nuevo-sellad...</td>\n",
              "      <td>979.000</td>\n",
              "    </tr>\n",
              "    <tr>\n",
              "      <th>41</th>\n",
              "      <td>celular : Celular Nokia 106</td>\n",
              "      <td>27.194</td>\n",
              "    </tr>\n",
              "    <tr>\n",
              "      <th>42</th>\n",
              "      <td>celular : Celular Samsung Galaxy S20+ Plus 128...</td>\n",
              "      <td>1.020.000</td>\n",
              "    </tr>\n",
              "    <tr>\n",
              "      <th>43</th>\n",
              "      <td>celular : Samsung Galaxy A51 4g</td>\n",
              "      <td>849.000</td>\n",
              "    </tr>\n",
              "    <tr>\n",
              "      <th>44</th>\n",
              "      <td>celular : Celular Huawei P30 Lite 128gb / 4ram...</td>\n",
              "      <td>23.583</td>\n",
              "    </tr>\n",
              "    <tr>\n",
              "      <th>45</th>\n",
              "      <td>celular : Celular Xiaomi Redmi Note 8 Pro /128...</td>\n",
              "      <td>79.900</td>\n",
              "    </tr>\n",
              "    <tr>\n",
              "      <th>46</th>\n",
              "      <td>celular : Celular Xiaomi Mi Note 10 Lite /128g...</td>\n",
              "      <td>44.900</td>\n",
              "    </tr>\n",
              "    <tr>\n",
              "      <th>47</th>\n",
              "      <td>celular : Celular Xiaomi Redmi Note 9s Global ...</td>\n",
              "      <td>1.247</td>\n",
              "    </tr>\n",
              "    <tr>\n",
              "      <th>48</th>\n",
              "      <td>celular : iPhone 11 128gb Nuevo-sellado-garantia</td>\n",
              "      <td>749.900</td>\n",
              "    </tr>\n",
              "    <tr>\n",
              "      <th>49</th>\n",
              "      <td>celular : Motorola Moto G8 Power Lite 4g</td>\n",
              "      <td>569.900</td>\n",
              "    </tr>\n",
              "    <tr>\n",
              "      <th>50</th>\n",
              "      <td>celular : Celular Huawei Honor 10 Lite 32gb 24...</td>\n",
              "      <td>15.831</td>\n",
              "    </tr>\n",
              "    <tr>\n",
              "      <th>51</th>\n",
              "      <td>celular : LG K61 128gb</td>\n",
              "      <td>999.900</td>\n",
              "    </tr>\n",
              "    <tr>\n",
              "      <th>52</th>\n",
              "      <td>celular : Celular Xiaomi Redmi Note 9 Pro /64g...</td>\n",
              "      <td>629.900</td>\n",
              "    </tr>\n",
              "    <tr>\n",
              "      <th>53</th>\n",
              "      <td>celular : Celular Realme 6 Pro 128gb 8gb Ram 6...</td>\n",
              "      <td>17.497</td>\n",
              "    </tr>\n",
              "  </tbody>\n",
              "</table>\n",
              "</div>"
            ],
            "text/plain": [
              "                                              Titulos    Precios\n",
              "0   celular : Celular Xiaomi Redmi Note 9 128gb 48...  1.199.900\n",
              "1   celular : Celular Libre Xiaomi Redmi Note 9 12...    729.900\n",
              "2   celular : Celular Xiaomi Redmi Note 8 /64gb/48...     20.275\n",
              "3   celular : Celular Xiaomi Redmi Note 9 Pro 128g...  1.299.900\n",
              "4   celular : Celular Xiaomi Redmi Note 9s /128gb/...    779.900\n",
              "5   celular : Celular Libre Xiaomi Redmi Note 8 64...     21.664\n",
              "6   celular : Celular Xiaomi Redmi Note 8 Global 1...  1.159.000\n",
              "7   celular : Celular Samsung Galaxy A31 Negro Dua...    679.900\n",
              "8   celular : Celular Samsung Galaxy M31 128gb+6gb...     18.886\n",
              "9   celular : Celular Motorola One Action Color Bl...  1.569.000\n",
              "10          celular : Celular Motorola Moto One Macro  1.199.000\n",
              "11      celular :  Celular Motorola Moto G8 Plus 64gb     33.306\n",
              "12  celular : Celular Xiaomi Redmi Note 9 /128gb/4...  1.499.000\n",
              "13  celular : Celular Xiaomi Redmi Note 9 Pro  /64...    925.000\n",
              "14  celular : Celular Xiaomi Redmi Note 9s /64gb/4...     25.694\n",
              "15  celular : Celular Libre Panasonic Gd100s Radio...  1.159.900\n",
              "16  celular : Celular Xiaomi Redmi 9 64 Gb 4 Gb Ra...    639.900\n",
              "17  celular : Celular Xiaomi Redmi Note 8 Global 6...     17.775\n",
              "18  celular : Celular Caterpillar Cat B26  Resiste...  1.199.900\n",
              "19       celular : Celular Tecno Spark 5 Air 32gb+2gb    689.900\n",
              "20  celular : Celular Libre Xiaomi Redmi Note 8 12...     19.164\n",
              "21             celular : Samsung Galaxy A30s 128gb 4g  1.169.900\n",
              "22  celular : Celular iPhone 11 128gb Nuevo 100% O...  1.099.900\n",
              "23  celular : Celular Samsung A51 /128gb/ 4ram / 4...     30.553\n",
              "24  celular : Celular Samsung A71 /128gb/ 6ram / 6...  1.899.900\n",
              "25  celular : Celular Samsung Galaxy A31 Negro Dua...  1.109.900\n",
              "26  celular : Celular Samsung Galaxy M31 128gb+6gb...     30.831\n",
              "27              celular : Xioami Note 9 128gb 4gb Ram  1.299.900\n",
              "28  celular : Celular Xiaomi Redmi Note 8 Pro /64g...    679.900\n",
              "29  celular : Celular Libre Xiaomi Redmi Note 9s 6...     18.886\n",
              "30  celular : Celular Xiaomi Mi Note 10 /128gb/108...    999.900\n",
              "31  celular : Celular iPhone 11 64gb Sellado Nuevo 4g    499.900\n",
              "32     celular : Celular iPhone SE 2020 64gb Chip A13     13.886\n",
              "33                  celular : Huawei Y9 Prime 2019 4g  1.299.900\n",
              "34               celular : Motorola Moto G8 Power 4g     659.900\n",
              "35  celular : Celular Xiaomi Redmi Note 9 /64gb/48...     18.331\n",
              "36  celular : Celular 4g 3gb/32gb/128gb Sd Dual Si...  1.099.000\n",
              "37                 celular : Motorola Moto G8 Play 4g    755.000\n",
              "38  celular : Celular Xiaomi Redmi Note 9 /128gb/4...     20.972\n",
              "39  celular : Celular Xiaomi Redmi Note 9 Pro 128g...  1.299.000\n",
              "40  celular : Xiaomi Note 9 Pro 128gb Nuevo-sellad...    979.000\n",
              "41                       celular : Celular Nokia 106      27.194\n",
              "42  celular : Celular Samsung Galaxy S20+ Plus 128...  1.020.000\n",
              "43                    celular : Samsung Galaxy A51 4g    849.000\n",
              "44  celular : Celular Huawei P30 Lite 128gb / 4ram...     23.583\n",
              "45  celular : Celular Xiaomi Redmi Note 8 Pro /128...     79.900\n",
              "46  celular : Celular Xiaomi Mi Note 10 Lite /128g...     44.900\n",
              "47  celular : Celular Xiaomi Redmi Note 9s Global ...      1.247\n",
              "48   celular : iPhone 11 128gb Nuevo-sellado-garantia    749.900\n",
              "49           celular : Motorola Moto G8 Power Lite 4g    569.900\n",
              "50  celular : Celular Huawei Honor 10 Lite 32gb 24...     15.831\n",
              "51                             celular : LG K61 128gb    999.900\n",
              "52  celular : Celular Xiaomi Redmi Note 9 Pro /64g...    629.900\n",
              "53  celular : Celular Realme 6 Pro 128gb 8gb Ram 6...     17.497"
            ]
          },
          "metadata": {
            "tags": []
          },
          "execution_count": 16
        }
      ]
    }
  ]
}